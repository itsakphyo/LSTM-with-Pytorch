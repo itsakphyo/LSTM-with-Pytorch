{
 "cells": [
  {
   "cell_type": "code",
   "execution_count": 65,
   "id": "58743002",
   "metadata": {},
   "outputs": [],
   "source": [
    "import pandas as pd\n",
    "import numpy as np\n",
    "import matplotlib.pyplot as plt\n",
    "from sklearn.preprocessing import MinMaxScaler, StandardScaler\n",
    "import torch\n",
    "from torch.utils.data import Dataset, DataLoader\n",
    "import torch.nn as nn"
   ]
  },
  {
   "cell_type": "code",
   "execution_count": 66,
   "id": "11fac74f",
   "metadata": {},
   "outputs": [],
   "source": [
    "import warnings\n",
    "warnings.filterwarnings(\"ignore\")"
   ]
  },
  {
   "cell_type": "code",
   "execution_count": 67,
   "id": "ba4db582",
   "metadata": {},
   "outputs": [
    {
     "data": {
      "text/plain": [
       "'cuda:0'"
      ]
     },
     "execution_count": 67,
     "metadata": {},
     "output_type": "execute_result"
    }
   ],
   "source": [
    "device = 'cuda:0' if torch.cuda.is_available() else 'cpu'\n",
    "device"
   ]
  },
  {
   "cell_type": "code",
   "execution_count": 68,
   "id": "086406e7",
   "metadata": {},
   "outputs": [],
   "source": [
    "df = pd.read_csv('./Amazon.csv')"
   ]
  },
  {
   "cell_type": "code",
   "execution_count": 69,
   "id": "0780cf93",
   "metadata": {},
   "outputs": [],
   "source": [
    "df['Date'] =  pd.to_datetime(df['Date'])\n",
    "df.set_index('Date', inplace = True)\n",
    "df = df[['Close']]\n",
    "MMS = MinMaxScaler()\n",
    "df[['Close']] = MMS.fit_transform(df)"
   ]
  },
  {
   "cell_type": "code",
   "execution_count": 70,
   "id": "33bd3dd6",
   "metadata": {},
   "outputs": [],
   "source": [
    "valid, test, train = np.split(df, [int(.2* len(df)), int (.4 * len(df))])"
   ]
  },
  {
   "cell_type": "code",
   "execution_count": 71,
   "id": "8f66969c",
   "metadata": {},
   "outputs": [],
   "source": [
    "def create_seq(df, n_step):\n",
    "    sequences = []\n",
    "    labels = []\n",
    "    for i in range(len(df)-n_step):\n",
    "        sequence = df.iloc[i : i + n_step]\n",
    "        label = df.iloc[i + n_step]\n",
    "        sequences.append(sequence)\n",
    "        labels.append(label)\n",
    "    \n",
    "    return np.array(sequences), np.array(labels)"
   ]
  },
  {
   "cell_type": "code",
   "execution_count": 72,
   "id": "a665d06b",
   "metadata": {},
   "outputs": [
    {
     "data": {
      "text/plain": [
       "(torch.Size([3683, 10, 1]),\n",
       " torch.Size([3683, 1]),\n",
       " torch.Size([1221, 10, 1]),\n",
       " torch.Size([1221, 1]),\n",
       " torch.Size([1221, 10, 1]),\n",
       " torch.Size([1221, 1]))"
      ]
     },
     "execution_count": 72,
     "metadata": {},
     "output_type": "execute_result"
    }
   ],
   "source": [
    "n_step = 10\n",
    "\n",
    "\n",
    "train_X, train_y = create_seq(train, n_step)\n",
    "valid_X, valid_y = create_seq(valid, n_step)\n",
    "test_X, test_y = create_seq(test, n_step)\n",
    "\n",
    "train_X = torch.tensor(train_X).float()\n",
    "train_y = torch.tensor(train_y).float()\n",
    "valid_X = torch.tensor(valid_X).float()\n",
    "valid_y = torch.tensor(valid_y).float()\n",
    "test_X = torch.tensor(test_X).float()\n",
    "test_y = torch.tensor(test_y).float()\n",
    "\n",
    "train_X.shape, train_y.shape, valid_X.shape, valid_y.shape, test_X.shape, test_y.shape"
   ]
  },
  {
   "cell_type": "code",
   "execution_count": 73,
   "id": "5508df30",
   "metadata": {},
   "outputs": [],
   "source": [
    "class TimeseriesDataset(Dataset):\n",
    "    def __init__(self, X, y):\n",
    "        self.X = X\n",
    "        self.y = y\n",
    "        \n",
    "    def __len__(self):\n",
    "        return len(self.X)\n",
    "    \n",
    "    def __getitem__(self, i):\n",
    "        return self.X[i], self.y[i]"
   ]
  },
  {
   "cell_type": "code",
   "execution_count": 74,
   "id": "78c13fd0",
   "metadata": {},
   "outputs": [],
   "source": [
    "train_dataset = TimeseriesDataset(train_X, train_y)\n",
    "valid_dataset = TimeseriesDataset(valid_X, valid_y)\n",
    "test_dataset = TimeseriesDataset(test_X, test_y)\n",
    "\n",
    "batch_size = 16\n",
    "\n",
    "load_train = DataLoader(train_dataset, batch_size = batch_size, shuffle = True)\n",
    "load_valid = DataLoader(valid_dataset, batch_size = batch_size, shuffle = True)\n",
    "load_test = DataLoader(test_dataset, batch_size = batch_size, shuffle = False)"
   ]
  },
  {
   "cell_type": "code",
   "execution_count": 75,
   "id": "32c2d500",
   "metadata": {},
   "outputs": [],
   "source": [
    "class lstm(nn.Module):\n",
    "    def __init__(self, input_size, hidden_size, num_hidden_layer):\n",
    "        super().__init__()\n",
    "        self.hidden_size = hidden_size\n",
    "        self.num_hidden_layer = num_hidden_layer\n",
    "        \n",
    "        self.lstm = nn.LSTM(input_size, hidden_size, num_hidden_layer, batch_first = True)\n",
    "        self.fc = nn.Linear(hidden_size, 1)\n",
    "        \n",
    "    def forward(self, x):\n",
    "        bath_size = x.size(0)\n",
    "        h0 = torch.zeros(self.num_hidden_layer, bath_size, self.hidden_size).to(device)\n",
    "        a0 = torch.zeros(self.num_hidden_layer, bath_size, self.hidden_size).to(device)\n",
    "        out, _ = self.lstm(x,(h0, a0))\n",
    "        out = self.fc(out[:, -1, :])\n",
    "        return out"
   ]
  },
  {
   "cell_type": "code",
   "execution_count": 76,
   "id": "f39344f4",
   "metadata": {},
   "outputs": [],
   "source": [
    "def train_one_epoch():\n",
    "    model.train(True)\n",
    "    print(f'Epoch: {epoch + 1}')\n",
    "\n",
    "    running_loss = 0.0\n",
    "    \n",
    "    for batch_index, batch in enumerate(load_train):\n",
    "        X_batch, y_batch = batch[0].to(device), batch[1].to(device)\n",
    "        \n",
    "        out = model(X_batch)\n",
    "        loss = loss_function(out, y_batch)\n",
    "        running_loss += loss.item()\n",
    "        optimizer.zero_grad()\n",
    "        loss.backward()\n",
    "        optimizer.step()\n",
    "        if batch_index % 100 == 99:\n",
    "            avg_loss_across_batches = running_loss / 100\n",
    "            print('Batch {0}, Loss: {1: .8f}'.format(batch_index+1,\n",
    "                                                    avg_loss_across_batches))\n",
    "            running_loss = 0.0"
   ]
  },
  {
   "cell_type": "code",
   "execution_count": 77,
   "id": "ca1cf5e2",
   "metadata": {},
   "outputs": [],
   "source": [
    "def valid_one_epoch():\n",
    "    model.train(False)\n",
    "    running_loss = 0.0\n",
    "    \n",
    "    for batch_index, batch in enumerate(load_valid):\n",
    "        X_batch, y_batch = batch[0].to(device), batch[1].to(device)\n",
    "    \n",
    "    with torch.no_grad():\n",
    "        out = model(X_batch)\n",
    "        loss = loss_function(out, y_batch)\n",
    "        running_loss += loss\n",
    "        \n",
    "    average_valid_loss = running_loss / len(load_valid)\n",
    "    \n",
    "    print('Valid Loss: {0: .8f}'.format(average_valid_loss))    \n",
    "    print('*********************')"
   ]
  },
  {
   "cell_type": "code",
   "execution_count": 78,
   "id": "156d1875",
   "metadata": {},
   "outputs": [
    {
     "data": {
      "text/plain": [
       "lstm(\n",
       "  (lstm): LSTM(1, 10, batch_first=True)\n",
       "  (fc): Linear(in_features=10, out_features=1, bias=True)\n",
       ")"
      ]
     },
     "execution_count": 78,
     "metadata": {},
     "output_type": "execute_result"
    }
   ],
   "source": [
    "model = lstm(1, 10, 1)\n",
    "model.to(device)\n",
    "model"
   ]
  },
  {
   "cell_type": "code",
   "execution_count": 79,
   "id": "17f9599d",
   "metadata": {},
   "outputs": [
    {
     "name": "stdout",
     "output_type": "stream",
     "text": [
      "Epoch: 1\n",
      "Batch 100, Loss:  0.02643856\n",
      "Batch 200, Loss:  0.00037100\n",
      "Valid Loss:  0.00000528\n",
      "*********************\n",
      "Epoch: 2\n",
      "Batch 100, Loss:  0.00027688\n",
      "Batch 200, Loss:  0.00020999\n",
      "Valid Loss:  0.00000133\n",
      "*********************\n",
      "Epoch: 3\n",
      "Batch 100, Loss:  0.00017365\n",
      "Batch 200, Loss:  0.00018076\n",
      "Valid Loss:  0.00000054\n",
      "*********************\n",
      "Epoch: 4\n",
      "Batch 100, Loss:  0.00013065\n",
      "Batch 200, Loss:  0.00014233\n",
      "Valid Loss:  0.00000010\n",
      "*********************\n",
      "Epoch: 5\n",
      "Batch 100, Loss:  0.00014544\n",
      "Batch 200, Loss:  0.00012998\n",
      "Valid Loss:  0.00000085\n",
      "*********************\n",
      "Epoch: 6\n",
      "Batch 100, Loss:  0.00015418\n",
      "Batch 200, Loss:  0.00011726\n",
      "Valid Loss:  0.00000088\n",
      "*********************\n",
      "Epoch: 7\n",
      "Batch 100, Loss:  0.00012371\n",
      "Batch 200, Loss:  0.00011097\n",
      "Valid Loss:  0.00000048\n",
      "*********************\n",
      "Epoch: 8\n",
      "Batch 100, Loss:  0.00008441\n",
      "Batch 200, Loss:  0.00014962\n",
      "Valid Loss:  0.00000005\n",
      "*********************\n",
      "Epoch: 9\n",
      "Batch 100, Loss:  0.00012020\n",
      "Batch 200, Loss:  0.00017002\n",
      "Valid Loss:  0.00000000\n",
      "*********************\n",
      "Epoch: 10\n",
      "Batch 100, Loss:  0.00011408\n",
      "Batch 200, Loss:  0.00008842\n",
      "Valid Loss:  0.00000001\n",
      "*********************\n"
     ]
    }
   ],
   "source": [
    "num_epoch = 10\n",
    "lr = 0.005\n",
    "loss_function = nn.MSELoss()\n",
    "optimizer = torch.optim.Adam(model.parameters(), lr = lr)\n",
    "\n",
    "for epoch in range(num_epoch):\n",
    "    train_one_epoch()\n",
    "    valid_one_epoch()"
   ]
  },
  {
   "cell_type": "code",
   "execution_count": 80,
   "id": "37d7fdad",
   "metadata": {},
   "outputs": [
    {
     "data": {
      "image/png": "[encoded data removed]",
      "text/plain": [
       "<Figure size 640x480 with 1 Axes>"
      ]
     },
     "metadata": {},
     "output_type": "display_data"
    }
   ],
   "source": [
    "with torch.no_grad():\n",
    "    predicted = model(test_X.to(device)).to('cpu').numpy()\n",
    "\n",
    "predicted = MMS.inverse_transform(predicted)\n",
    "test_y = MMS.inverse_transform(test_y)\n",
    "plt.plot(test_y, label='Actual Close')\n",
    "plt.plot(predicted, label='Predicted Close')\n",
    "plt.xlabel('Time Step')\n",
    "plt.ylabel('Closing Price')\n",
    "plt.legend()\n",
    "plt.title('Actual vs Predicted Closing Prices')\n",
    "plt.show()"
   ]
  }
 ],
 "metadata": {
  "kernelspec": {
   "display_name": "Amazon",
   "language": "python",
   "name": "amazon"
  },
  "language_info": {
   "codemirror_mode": {
    "name": "ipython",
    "version": 3
   },
   "file_extension": ".py",
   "mimetype": "text/x-python",
   "name": "python",
   "nbconvert_exporter": "python",
   "pygments_lexer": "ipython3",
   "version": "3.11.6"
  }
 },
 "nbformat": 4,
 "nbformat_minor": 5
}
